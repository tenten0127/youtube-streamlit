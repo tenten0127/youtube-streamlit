{
 "cells": [
  {
   "cell_type": "code",
   "execution_count": null,
   "metadata": {},
   "outputs": [],
   "source": [
    "!pip install yfinance"
   ]
  },
  {
   "cell_type": "code",
   "execution_count": 1,
   "id": "ec799ca3",
   "metadata": {},
   "outputs": [],
   "source": [
    "import pandas as pd\n",
    "import matplotlib.pyplot as plt\n",
    "import yfinance as yf\n",
    "\n",
    "%matplotlib inline\n"
   ]
  },
  {
   "cell_type": "code",
   "execution_count": 3,
   "id": "a86a5bf7",
   "metadata": {},
   "outputs": [],
   "source": [
    "aapl = yf.Ticker('AAPL')"
   ]
  },
  {
   "cell_type": "code",
   "execution_count": null,
   "id": "8b1eba3f",
   "metadata": {},
   "outputs": [],
   "source": [
    "days = 50\n",
    "hist = aapl.history(period=f'{days}d')\n",
    "hist"
   ]
  },
  {
   "cell_type": "code",
   "execution_count": 31,
   "id": "68ade20f",
   "metadata": {},
   "outputs": [
    {
     "data": {
      "text/plain": [
       "Index(['Open', 'High', 'Low', 'Close', 'Volume', 'Dividends', 'Stock Splits'], dtype='object')"
      ]
     },
     "execution_count": 31,
     "metadata": {},
     "output_type": "execute_result"
    }
   ],
   "source": [
    "hist.columns"
   ]
  },
  {
   "cell_type": "code",
   "execution_count": null,
   "id": "c7f3282f",
   "metadata": {},
   "outputs": [],
   "source": [
    "hist.reset_index()"
   ]
  },
  {
   "cell_type": "code",
   "execution_count": null,
   "id": "866c2fcf",
   "metadata": {},
   "outputs": [],
   "source": [
    "hist_msft = yf.Ticker('MSFT').history(period=f'{days}d')\n",
    "hist_msft.head()"
   ]
  },
  {
   "cell_type": "code",
   "execution_count": null,
   "id": "b4653d9f",
   "metadata": {},
   "outputs": [],
   "source": [
    "pd.concat([hist, hist_msft], axis=1).head()"
   ]
  },
  {
   "cell_type": "code",
   "execution_count": null,
   "id": "f3b6eff9",
   "metadata": {},
   "outputs": [],
   "source": [
    "hist.head(3)"
   ]
  },
  {
   "cell_type": "code",
   "execution_count": null,
   "metadata": {},
   "outputs": [],
   "source": [
    "hist.index"
   ]
  },
  {
   "cell_type": "code",
   "execution_count": 34,
   "id": "65d72365",
   "metadata": {},
   "outputs": [],
   "source": [
    "hist.index = hist.index.strftime('%d %B %Y')"
   ]
  },
  {
   "cell_type": "code",
   "execution_count": 35,
   "id": "e5a81c2f",
   "metadata": {},
   "outputs": [
    {
     "data": {
      "text/html": [
       "<div>\n",
       "<style scoped>\n",
       "    .dataframe tbody tr th:only-of-type {\n",
       "        vertical-align: middle;\n",
       "    }\n",
       "\n",
       "    .dataframe tbody tr th {\n",
       "        vertical-align: top;\n",
       "    }\n",
       "\n",
       "    .dataframe thead th {\n",
       "        text-align: right;\n",
       "    }\n",
       "</style>\n",
       "<table border=\"1\" class=\"dataframe\">\n",
       "  <thead>\n",
       "    <tr style=\"text-align: right;\">\n",
       "      <th></th>\n",
       "      <th>Open</th>\n",
       "      <th>High</th>\n",
       "      <th>Low</th>\n",
       "      <th>Close</th>\n",
       "      <th>Volume</th>\n",
       "      <th>Dividends</th>\n",
       "      <th>Stock Splits</th>\n",
       "    </tr>\n",
       "    <tr>\n",
       "      <th>Date</th>\n",
       "      <th></th>\n",
       "      <th></th>\n",
       "      <th></th>\n",
       "      <th></th>\n",
       "      <th></th>\n",
       "      <th></th>\n",
       "      <th></th>\n",
       "    </tr>\n",
       "  </thead>\n",
       "  <tbody>\n",
       "    <tr>\n",
       "      <th>11 February 2022</th>\n",
       "      <td>172.330002</td>\n",
       "      <td>173.080002</td>\n",
       "      <td>168.039993</td>\n",
       "      <td>168.639999</td>\n",
       "      <td>98670700</td>\n",
       "      <td>0</td>\n",
       "      <td>0</td>\n",
       "    </tr>\n",
       "    <tr>\n",
       "      <th>14 February 2022</th>\n",
       "      <td>167.369995</td>\n",
       "      <td>169.580002</td>\n",
       "      <td>166.559998</td>\n",
       "      <td>168.880005</td>\n",
       "      <td>86185500</td>\n",
       "      <td>0</td>\n",
       "      <td>0</td>\n",
       "    </tr>\n",
       "    <tr>\n",
       "      <th>15 February 2022</th>\n",
       "      <td>170.970001</td>\n",
       "      <td>172.949997</td>\n",
       "      <td>170.250000</td>\n",
       "      <td>172.789993</td>\n",
       "      <td>62527400</td>\n",
       "      <td>0</td>\n",
       "      <td>0</td>\n",
       "    </tr>\n",
       "    <tr>\n",
       "      <th>16 February 2022</th>\n",
       "      <td>171.850006</td>\n",
       "      <td>173.339996</td>\n",
       "      <td>170.050003</td>\n",
       "      <td>172.550003</td>\n",
       "      <td>61177400</td>\n",
       "      <td>0</td>\n",
       "      <td>0</td>\n",
       "    </tr>\n",
       "    <tr>\n",
       "      <th>17 February 2022</th>\n",
       "      <td>171.029999</td>\n",
       "      <td>171.910004</td>\n",
       "      <td>168.470001</td>\n",
       "      <td>168.880005</td>\n",
       "      <td>69589300</td>\n",
       "      <td>0</td>\n",
       "      <td>0</td>\n",
       "    </tr>\n",
       "  </tbody>\n",
       "</table>\n",
       "</div>"
      ],
      "text/plain": [
       "                        Open        High         Low       Close    Volume  \\\n",
       "Date                                                                         \n",
       "11 February 2022  172.330002  173.080002  168.039993  168.639999  98670700   \n",
       "14 February 2022  167.369995  169.580002  166.559998  168.880005  86185500   \n",
       "15 February 2022  170.970001  172.949997  170.250000  172.789993  62527400   \n",
       "16 February 2022  171.850006  173.339996  170.050003  172.550003  61177400   \n",
       "17 February 2022  171.029999  171.910004  168.470001  168.880005  69589300   \n",
       "\n",
       "                  Dividends  Stock Splits  \n",
       "Date                                       \n",
       "11 February 2022          0             0  \n",
       "14 February 2022          0             0  \n",
       "15 February 2022          0             0  \n",
       "16 February 2022          0             0  \n",
       "17 February 2022          0             0  "
      ]
     },
     "execution_count": 35,
     "metadata": {},
     "output_type": "execute_result"
    }
   ],
   "source": [
    "hist.head()"
   ]
  },
  {
   "cell_type": "code",
   "execution_count": 36,
   "id": "3e988efa",
   "metadata": {},
   "outputs": [
    {
     "data": {
      "text/plain": [
       "<bound method NDFrame.head of                        apple\n",
       "Date                        \n",
       "11 February 2022  168.639999\n",
       "14 February 2022  168.880005\n",
       "15 February 2022  172.789993\n",
       "16 February 2022  172.550003\n",
       "17 February 2022  168.880005\n",
       "18 February 2022  167.300003\n",
       "22 February 2022  164.320007\n",
       "23 February 2022  160.070007\n",
       "24 February 2022  162.740005\n",
       "25 February 2022  164.850006\n",
       "28 February 2022  165.119995\n",
       "01 March 2022     163.199997\n",
       "02 March 2022     166.559998\n",
       "03 March 2022     166.229996\n",
       "04 March 2022     163.169998\n",
       "07 March 2022     159.300003\n",
       "08 March 2022     157.440002\n",
       "09 March 2022     162.949997\n",
       "10 March 2022     158.520004\n",
       "11 March 2022     154.729996\n",
       "14 March 2022     150.619995\n",
       "15 March 2022     155.089996\n",
       "16 March 2022     159.589996\n",
       "17 March 2022     160.619995\n",
       "18 March 2022     163.979996\n",
       "21 March 2022     165.380005\n",
       "22 March 2022     168.820007\n",
       "23 March 2022     170.210007\n",
       "24 March 2022     174.070007\n",
       "25 March 2022     174.720001\n",
       "28 March 2022     175.600006\n",
       "29 March 2022     178.960007\n",
       "30 March 2022     177.770004\n",
       "31 March 2022     174.610001\n",
       "01 April 2022     174.309998\n",
       "04 April 2022     178.440002\n",
       "05 April 2022     175.059998\n",
       "06 April 2022     171.830002\n",
       "07 April 2022     172.139999\n",
       "08 April 2022     170.089996\n",
       "11 April 2022     165.750000\n",
       "12 April 2022     167.660004\n",
       "13 April 2022     170.399994\n",
       "14 April 2022     165.289993\n",
       "18 April 2022     165.070007\n",
       "19 April 2022     167.399994\n",
       "20 April 2022     167.229996\n",
       "21 April 2022     166.419998\n",
       "22 April 2022     161.789993\n",
       "25 April 2022     162.880005>"
      ]
     },
     "execution_count": 36,
     "metadata": {},
     "output_type": "execute_result"
    }
   ],
   "source": [
    "hist = hist[['Close']]\n",
    "hist.columns = ['apple']\n",
    "hist.head()"
   ]
  },
  {
   "cell_type": "code",
   "execution_count": 39,
   "id": "9c0232a0",
   "metadata": {},
   "outputs": [
    {
     "data": {
      "text/html": [
       "<div>\n",
       "<style scoped>\n",
       "    .dataframe tbody tr th:only-of-type {\n",
       "        vertical-align: middle;\n",
       "    }\n",
       "\n",
       "    .dataframe tbody tr th {\n",
       "        vertical-align: top;\n",
       "    }\n",
       "\n",
       "    .dataframe thead th {\n",
       "        text-align: right;\n",
       "    }\n",
       "</style>\n",
       "<table border=\"1\" class=\"dataframe\">\n",
       "  <thead>\n",
       "    <tr style=\"text-align: right;\">\n",
       "      <th>Date</th>\n",
       "      <th>11 February 2022</th>\n",
       "      <th>14 February 2022</th>\n",
       "      <th>15 February 2022</th>\n",
       "      <th>16 February 2022</th>\n",
       "      <th>17 February 2022</th>\n",
       "      <th>18 February 2022</th>\n",
       "      <th>22 February 2022</th>\n",
       "      <th>23 February 2022</th>\n",
       "      <th>24 February 2022</th>\n",
       "      <th>25 February 2022</th>\n",
       "      <th>...</th>\n",
       "      <th>11 April 2022</th>\n",
       "      <th>12 April 2022</th>\n",
       "      <th>13 April 2022</th>\n",
       "      <th>14 April 2022</th>\n",
       "      <th>18 April 2022</th>\n",
       "      <th>19 April 2022</th>\n",
       "      <th>20 April 2022</th>\n",
       "      <th>21 April 2022</th>\n",
       "      <th>22 April 2022</th>\n",
       "      <th>25 April 2022</th>\n",
       "    </tr>\n",
       "  </thead>\n",
       "  <tbody>\n",
       "    <tr>\n",
       "      <th>apple</th>\n",
       "      <td>168.639999</td>\n",
       "      <td>168.880005</td>\n",
       "      <td>172.789993</td>\n",
       "      <td>172.550003</td>\n",
       "      <td>168.880005</td>\n",
       "      <td>167.300003</td>\n",
       "      <td>164.320007</td>\n",
       "      <td>160.070007</td>\n",
       "      <td>162.740005</td>\n",
       "      <td>164.850006</td>\n",
       "      <td>...</td>\n",
       "      <td>165.75</td>\n",
       "      <td>167.660004</td>\n",
       "      <td>170.399994</td>\n",
       "      <td>165.289993</td>\n",
       "      <td>165.070007</td>\n",
       "      <td>167.399994</td>\n",
       "      <td>167.229996</td>\n",
       "      <td>166.419998</td>\n",
       "      <td>161.789993</td>\n",
       "      <td>162.880005</td>\n",
       "    </tr>\n",
       "  </tbody>\n",
       "</table>\n",
       "<p>1 rows × 50 columns</p>\n",
       "</div>"
      ],
      "text/plain": [
       "Date   11 February 2022  14 February 2022  15 February 2022  16 February 2022  \\\n",
       "apple        168.639999        168.880005        172.789993        172.550003   \n",
       "\n",
       "Date   17 February 2022  18 February 2022  22 February 2022  23 February 2022  \\\n",
       "apple        168.880005        167.300003        164.320007        160.070007   \n",
       "\n",
       "Date   24 February 2022  25 February 2022  ...  11 April 2022  12 April 2022  \\\n",
       "apple        162.740005        164.850006  ...         165.75     167.660004   \n",
       "\n",
       "Date   13 April 2022  14 April 2022  18 April 2022  19 April 2022  \\\n",
       "apple     170.399994     165.289993     165.070007     167.399994   \n",
       "\n",
       "Date   20 April 2022  21 April 2022  22 April 2022  25 April 2022  \n",
       "apple     167.229996     166.419998     161.789993     162.880005  \n",
       "\n",
       "[1 rows x 50 columns]"
      ]
     },
     "execution_count": 39,
     "metadata": {},
     "output_type": "execute_result"
    }
   ],
   "source": [
    "hist = hist.T\n",
    "hist"
   ]
  },
  {
   "cell_type": "code",
   "execution_count": 40,
   "id": "1ec17b10",
   "metadata": {},
   "outputs": [
    {
     "data": {
      "text/html": [
       "<div>\n",
       "<style scoped>\n",
       "    .dataframe tbody tr th:only-of-type {\n",
       "        vertical-align: middle;\n",
       "    }\n",
       "\n",
       "    .dataframe tbody tr th {\n",
       "        vertical-align: top;\n",
       "    }\n",
       "\n",
       "    .dataframe thead th {\n",
       "        text-align: right;\n",
       "    }\n",
       "</style>\n",
       "<table border=\"1\" class=\"dataframe\">\n",
       "  <thead>\n",
       "    <tr style=\"text-align: right;\">\n",
       "      <th>Date</th>\n",
       "      <th>11 February 2022</th>\n",
       "      <th>14 February 2022</th>\n",
       "      <th>15 February 2022</th>\n",
       "      <th>16 February 2022</th>\n",
       "      <th>17 February 2022</th>\n",
       "      <th>18 February 2022</th>\n",
       "      <th>22 February 2022</th>\n",
       "      <th>23 February 2022</th>\n",
       "      <th>24 February 2022</th>\n",
       "      <th>25 February 2022</th>\n",
       "      <th>...</th>\n",
       "      <th>11 April 2022</th>\n",
       "      <th>12 April 2022</th>\n",
       "      <th>13 April 2022</th>\n",
       "      <th>14 April 2022</th>\n",
       "      <th>18 April 2022</th>\n",
       "      <th>19 April 2022</th>\n",
       "      <th>20 April 2022</th>\n",
       "      <th>21 April 2022</th>\n",
       "      <th>22 April 2022</th>\n",
       "      <th>25 April 2022</th>\n",
       "    </tr>\n",
       "    <tr>\n",
       "      <th>Name</th>\n",
       "      <th></th>\n",
       "      <th></th>\n",
       "      <th></th>\n",
       "      <th></th>\n",
       "      <th></th>\n",
       "      <th></th>\n",
       "      <th></th>\n",
       "      <th></th>\n",
       "      <th></th>\n",
       "      <th></th>\n",
       "      <th></th>\n",
       "      <th></th>\n",
       "      <th></th>\n",
       "      <th></th>\n",
       "      <th></th>\n",
       "      <th></th>\n",
       "      <th></th>\n",
       "      <th></th>\n",
       "      <th></th>\n",
       "      <th></th>\n",
       "      <th></th>\n",
       "    </tr>\n",
       "  </thead>\n",
       "  <tbody>\n",
       "    <tr>\n",
       "      <th>apple</th>\n",
       "      <td>168.639999</td>\n",
       "      <td>168.880005</td>\n",
       "      <td>172.789993</td>\n",
       "      <td>172.550003</td>\n",
       "      <td>168.880005</td>\n",
       "      <td>167.300003</td>\n",
       "      <td>164.320007</td>\n",
       "      <td>160.070007</td>\n",
       "      <td>162.740005</td>\n",
       "      <td>164.850006</td>\n",
       "      <td>...</td>\n",
       "      <td>165.75</td>\n",
       "      <td>167.660004</td>\n",
       "      <td>170.399994</td>\n",
       "      <td>165.289993</td>\n",
       "      <td>165.070007</td>\n",
       "      <td>167.399994</td>\n",
       "      <td>167.229996</td>\n",
       "      <td>166.419998</td>\n",
       "      <td>161.789993</td>\n",
       "      <td>162.880005</td>\n",
       "    </tr>\n",
       "  </tbody>\n",
       "</table>\n",
       "<p>1 rows × 50 columns</p>\n",
       "</div>"
      ],
      "text/plain": [
       "Date   11 February 2022  14 February 2022  15 February 2022  16 February 2022  \\\n",
       "Name                                                                            \n",
       "apple        168.639999        168.880005        172.789993        172.550003   \n",
       "\n",
       "Date   17 February 2022  18 February 2022  22 February 2022  23 February 2022  \\\n",
       "Name                                                                            \n",
       "apple        168.880005        167.300003        164.320007        160.070007   \n",
       "\n",
       "Date   24 February 2022  25 February 2022  ...  11 April 2022  12 April 2022  \\\n",
       "Name                                       ...                                 \n",
       "apple        162.740005        164.850006  ...         165.75     167.660004   \n",
       "\n",
       "Date   13 April 2022  14 April 2022  18 April 2022  19 April 2022  \\\n",
       "Name                                                                \n",
       "apple     170.399994     165.289993     165.070007     167.399994   \n",
       "\n",
       "Date   20 April 2022  21 April 2022  22 April 2022  25 April 2022  \n",
       "Name                                                               \n",
       "apple     167.229996     166.419998     161.789993     162.880005  \n",
       "\n",
       "[1 rows x 50 columns]"
      ]
     },
     "execution_count": 40,
     "metadata": {},
     "output_type": "execute_result"
    }
   ],
   "source": [
    "hist.index.name = 'Name'\n",
    "hist"
   ]
  },
  {
   "cell_type": "code",
   "execution_count": 41,
   "metadata": {},
   "outputs": [
    {
     "data": {
      "text/plain": [
       "{'zip': '95014',\n",
       " 'sector': 'Technology',\n",
       " 'fullTimeEmployees': 100000,\n",
       " 'longBusinessSummary': 'Apple Inc. designs, manufactures, and markets smartphones, personal computers, tablets, wearables, and accessories worldwide. It also sells various related services. In addition, the company offers iPhone, a line of smartphones; Mac, a line of personal computers; iPad, a line of multi-purpose tablets; AirPods Max, an over-ear wireless headphone; and wearables, home, and accessories comprising AirPods, Apple TV, Apple Watch, Beats products, HomePod, and iPod touch. Further, it provides AppleCare support services; cloud services store services; and operates various platforms, including the App Store that allow customers to discover and download applications and digital content, such as books, music, video, games, and podcasts. Additionally, the company offers various services, such as Apple Arcade, a game subscription service; Apple Music, which offers users a curated listening experience with on-demand radio stations; Apple News+, a subscription news and magazine service; Apple TV+, which offers exclusive original content; Apple Card, a co-branded credit card; and Apple Pay, a cashless payment service, as well as licenses its intellectual property. The company serves consumers, and small and mid-sized businesses; and the education, enterprise, and government markets. It distributes third-party applications for its products through the App Store. The company also sells its products through its retail and online stores, and direct sales force; and third-party cellular network carriers, wholesalers, retailers, and resellers. Apple Inc. was incorporated in 1977 and is headquartered in Cupertino, California.',\n",
       " 'city': 'Cupertino',\n",
       " 'phone': '408 996 1010',\n",
       " 'state': 'CA',\n",
       " 'country': 'United States',\n",
       " 'companyOfficers': [],\n",
       " 'website': 'https://www.apple.com',\n",
       " 'maxAge': 1,\n",
       " 'address1': 'One Apple Park Way',\n",
       " 'industry': 'Consumer Electronics',\n",
       " 'ebitdaMargins': 0.33890998,\n",
       " 'profitMargins': 0.26579002,\n",
       " 'grossMargins': 0.43019,\n",
       " 'operatingCashflow': 112241000448,\n",
       " 'revenueGrowth': 0.112,\n",
       " 'operatingMargins': 0.309,\n",
       " 'ebitda': 128217997312,\n",
       " 'targetLowPrice': 160,\n",
       " 'recommendationKey': 'buy',\n",
       " 'grossProfits': 152836000000,\n",
       " 'freeCashflow': 80153247744,\n",
       " 'targetMedianPrice': 199,\n",
       " 'currentPrice': 162.88,\n",
       " 'earningsGrowth': 0.25,\n",
       " 'currentRatio': 1.038,\n",
       " 'returnOnAssets': 0.19875,\n",
       " 'numberOfAnalystOpinions': 43,\n",
       " 'targetMeanPrice': 192.89,\n",
       " 'debtToEquity': 170.714,\n",
       " 'returnOnEquity': 1.45567,\n",
       " 'targetHighPrice': 215,\n",
       " 'totalCash': 63913000960,\n",
       " 'totalDebt': 122797998080,\n",
       " 'totalRevenue': 378323009536,\n",
       " 'totalCashPerShare': 3.916,\n",
       " 'financialCurrency': 'USD',\n",
       " 'revenuePerShare': 22.838,\n",
       " 'quickRatio': 0.875,\n",
       " 'recommendationMean': 1.9,\n",
       " 'exchange': 'NMS',\n",
       " 'shortName': 'Apple Inc.',\n",
       " 'longName': 'Apple Inc.',\n",
       " 'exchangeTimezoneName': 'America/New_York',\n",
       " 'exchangeTimezoneShortName': 'EDT',\n",
       " 'isEsgPopulated': False,\n",
       " 'gmtOffSetMilliseconds': '-14400000',\n",
       " 'quoteType': 'EQUITY',\n",
       " 'symbol': 'AAPL',\n",
       " 'messageBoardId': 'finmb_24937',\n",
       " 'market': 'us_market',\n",
       " 'annualHoldingsTurnover': None,\n",
       " 'enterpriseToRevenue': 7.135,\n",
       " 'beta3Year': None,\n",
       " 'enterpriseToEbitda': 21.052,\n",
       " '52WeekChange': 0.21199489,\n",
       " 'morningStarRiskRating': None,\n",
       " 'forwardEps': 6.57,\n",
       " 'revenueQuarterlyGrowth': None,\n",
       " 'sharesOutstanding': 16319399936,\n",
       " 'fundInceptionDate': None,\n",
       " 'annualReportExpenseRatio': None,\n",
       " 'totalAssets': None,\n",
       " 'bookValue': 4.402,\n",
       " 'sharesShort': 101969098,\n",
       " 'sharesPercentSharesOut': 0.0062,\n",
       " 'fundFamily': None,\n",
       " 'lastFiscalYearEnd': 1632528000,\n",
       " 'heldPercentInstitutions': 0.59353,\n",
       " 'netIncomeToCommon': 100554997760,\n",
       " 'trailingEps': 6.015,\n",
       " 'lastDividendValue': 0.22,\n",
       " 'SandP52WeekChange': 0.0261302,\n",
       " 'priceToBook': 37.001366,\n",
       " 'heldPercentInsiders': 0.00071000005,\n",
       " 'nextFiscalYearEnd': 1695600000,\n",
       " 'yield': None,\n",
       " 'mostRecentQuarter': 1640390400,\n",
       " 'shortRatio': 1.08,\n",
       " 'sharesShortPreviousMonthDate': 1646006400,\n",
       " 'floatShares': 16302631976,\n",
       " 'beta': 1.187745,\n",
       " 'enterpriseValue': 2699207376896,\n",
       " 'priceHint': 2,\n",
       " 'threeYearAverageReturn': None,\n",
       " 'lastSplitDate': 1598832000,\n",
       " 'lastSplitFactor': '4:1',\n",
       " 'legalType': None,\n",
       " 'lastDividendDate': 1643932800,\n",
       " 'morningStarOverallRating': None,\n",
       " 'earningsQuarterlyGrowth': 0.204,\n",
       " 'priceToSalesTrailing12Months': 7.026017,\n",
       " 'dateShortInterest': 1648684800,\n",
       " 'pegRatio': 2.57,\n",
       " 'ytdReturn': None,\n",
       " 'forwardPE': 24.791477,\n",
       " 'lastCapGain': None,\n",
       " 'shortPercentOfFloat': 0.0063,\n",
       " 'sharesShortPriorMonth': 110322490,\n",
       " 'impliedSharesOutstanding': 0,\n",
       " 'category': None,\n",
       " 'fiveYearAverageReturn': None,\n",
       " 'previousClose': 161.79,\n",
       " 'regularMarketOpen': 161.12,\n",
       " 'twoHundredDayAverage': 159.06184,\n",
       " 'trailingAnnualDividendYield': 0.005346437,\n",
       " 'payoutRatio': 0.1434,\n",
       " 'volume24Hr': None,\n",
       " 'regularMarketDayHigh': 163.17,\n",
       " 'navPrice': None,\n",
       " 'averageDailyVolume10Day': 76997910,\n",
       " 'regularMarketPreviousClose': 161.79,\n",
       " 'fiftyDayAverage': 166.8008,\n",
       " 'trailingAnnualDividendRate': 0.865,\n",
       " 'open': 161.12,\n",
       " 'toCurrency': None,\n",
       " 'averageVolume10days': 76997910,\n",
       " 'expireDate': None,\n",
       " 'algorithm': None,\n",
       " 'dividendRate': 0.88,\n",
       " 'exDividendDate': 1643932800,\n",
       " 'circulatingSupply': None,\n",
       " 'startDate': None,\n",
       " 'regularMarketDayLow': 158.46,\n",
       " 'currency': 'USD',\n",
       " 'trailingPE': 27.07897,\n",
       " 'regularMarketVolume': 96046376,\n",
       " 'lastMarket': None,\n",
       " 'maxSupply': None,\n",
       " 'openInterest': None,\n",
       " 'marketCap': 2658103984128,\n",
       " 'volumeAllCurrencies': None,\n",
       " 'strikePrice': None,\n",
       " 'averageVolume': 89630603,\n",
       " 'dayLow': 158.46,\n",
       " 'ask': 162.49,\n",
       " 'askSize': 800,\n",
       " 'volume': 96046376,\n",
       " 'fiftyTwoWeekHigh': 182.94,\n",
       " 'fromCurrency': None,\n",
       " 'fiveYearAvgDividendYield': 1.11,\n",
       " 'fiftyTwoWeekLow': 122.25,\n",
       " 'bid': 162.13,\n",
       " 'tradeable': False,\n",
       " 'dividendYield': 0.0054,\n",
       " 'bidSize': 900,\n",
       " 'dayHigh': 163.17,\n",
       " 'regularMarketPrice': 162.88,\n",
       " 'preMarketPrice': 162.145,\n",
       " 'logo_url': 'https://logo.clearbit.com/apple.com',\n",
       " 'trailingPegRatio': 3.1111}"
      ]
     },
     "execution_count": 41,
     "metadata": {},
     "output_type": "execute_result"
    }
   ],
   "source": [
    "aapl = yf.Ticker('AAPL')\n",
    "aapl.info"
   ]
  },
  {
   "cell_type": "code",
   "execution_count": 42,
   "metadata": {},
   "outputs": [
    {
     "data": {
      "text/html": [
       "<div>\n",
       "<style scoped>\n",
       "    .dataframe tbody tr th:only-of-type {\n",
       "        vertical-align: middle;\n",
       "    }\n",
       "\n",
       "    .dataframe tbody tr th {\n",
       "        vertical-align: top;\n",
       "    }\n",
       "\n",
       "    .dataframe thead th {\n",
       "        text-align: right;\n",
       "    }\n",
       "</style>\n",
       "<table border=\"1\" class=\"dataframe\">\n",
       "  <thead>\n",
       "    <tr style=\"text-align: right;\">\n",
       "      <th></th>\n",
       "      <th>Dividends</th>\n",
       "      <th>Stock Splits</th>\n",
       "    </tr>\n",
       "    <tr>\n",
       "      <th>Date</th>\n",
       "      <th></th>\n",
       "      <th></th>\n",
       "    </tr>\n",
       "  </thead>\n",
       "  <tbody>\n",
       "    <tr>\n",
       "      <th>1987-05-11</th>\n",
       "      <td>0.000536</td>\n",
       "      <td>0.0</td>\n",
       "    </tr>\n",
       "    <tr>\n",
       "      <th>1987-06-16</th>\n",
       "      <td>0.000000</td>\n",
       "      <td>2.0</td>\n",
       "    </tr>\n",
       "    <tr>\n",
       "      <th>1987-08-10</th>\n",
       "      <td>0.000536</td>\n",
       "      <td>0.0</td>\n",
       "    </tr>\n",
       "    <tr>\n",
       "      <th>1987-11-17</th>\n",
       "      <td>0.000714</td>\n",
       "      <td>0.0</td>\n",
       "    </tr>\n",
       "    <tr>\n",
       "      <th>1988-02-12</th>\n",
       "      <td>0.000714</td>\n",
       "      <td>0.0</td>\n",
       "    </tr>\n",
       "  </tbody>\n",
       "</table>\n",
       "</div>"
      ],
      "text/plain": [
       "            Dividends  Stock Splits\n",
       "Date                               \n",
       "1987-05-11   0.000536           0.0\n",
       "1987-06-16   0.000000           2.0\n",
       "1987-08-10   0.000536           0.0\n",
       "1987-11-17   0.000714           0.0\n",
       "1988-02-12   0.000714           0.0"
      ]
     },
     "execution_count": 42,
     "metadata": {},
     "output_type": "execute_result"
    }
   ],
   "source": [
    "aapl.actions.head()"
   ]
  },
  {
   "cell_type": "code",
   "execution_count": 44,
   "metadata": {},
   "outputs": [
    {
     "data": {
      "text/plain": [
       "<AxesSubplot:xlabel='Date'>"
      ]
     },
     "execution_count": 44,
     "metadata": {},
     "output_type": "execute_result"
    },
    {
     "data": {
      "image/png": "[encoded data removed]",
      "text/plain": [
       "<Figure size 432x288 with 1 Axes>"
      ]
     },
     "metadata": {
      "needs_background": "light"
     },
     "output_type": "display_data"
    }
   ],
   "source": [
    "aapl.dividends.plot()"
   ]
  },
  {
   "cell_type": "code",
   "execution_count": 46,
   "id": "b69050bc",
   "metadata": {},
   "outputs": [
    {
     "data": {
      "text/plain": [
       "<AxesSubplot:xlabel='Date'>"
      ]
     },
     "execution_count": 46,
     "metadata": {},
     "output_type": "execute_result"
    },
    {
     "data": {
      "image/png": "[encoded data removed]",
      "text/plain": [
       "<Figure size 432x288 with 1 Axes>"
      ]
     },
     "metadata": {
      "needs_background": "light"
     },
     "output_type": "display_data"
    }
   ],
   "source": [
    "aapl.actions['Stock Splits'].plot()"
   ]
  },
  {
   "cell_type": "code",
   "execution_count": null,
   "id": "89f37cb3",
   "metadata": {},
   "outputs": [],
   "source": []
  }
 ],
 "metadata": {
  "kernelspec": {
   "display_name": "Python 3",
   "language": "python",
   "name": "python3"
  },
  "language_info": {
   "codemirror_mode": {
    "name": "ipython",
    "version": 3
   },
   "file_extension": ".py",
   "mimetype": "text/x-python",
   "name": "python",
   "nbconvert_exporter": "python",
   "pygments_lexer": "ipython3",
   "version": "3.10.0"
  },
  "varInspector": {
   "cols": {
    "lenName": 16,
    "lenType": 16,
    "lenVar": 40
   },
   "kernels_config": {
    "python": {
     "delete_cmd_postfix": "",
     "delete_cmd_prefix": "del ",
     "library": "var_list.py",
     "varRefreshCmd": "print(var_dic_list())"
    },
    "r": {
     "delete_cmd_postfix": ") ",
     "delete_cmd_prefix": "rm(",
     "library": "var_list.r",
     "varRefreshCmd": "cat(var_dic_list()) "
    }
   },
   "types_to_exclude": [
    "module",
    "function",
    "builtin_function_or_method",
    "instance",
    "_Feature"
   ],
   "window_display": false
  }
 },
 "nbformat": 4,
 "nbformat_minor": 5
}
